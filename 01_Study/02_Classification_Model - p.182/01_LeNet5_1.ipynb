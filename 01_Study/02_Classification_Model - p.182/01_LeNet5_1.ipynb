{
 "cells": [
  {
   "attachments": {},
   "cell_type": "markdown",
   "metadata": {},
   "source": [
    "http://vision.stanford.edu/cs598_spring07/papers/Lecun98.pdf"
   ]
  },
  {
   "cell_type": "code",
   "execution_count": 50,
   "metadata": {},
   "outputs": [],
   "source": [
    "import torch\n",
    "import torch.nn as nn\n",
    "import torch.optim as optim\n",
    "import torchvision\n",
    "import torchvision.transforms as transforms"
   ]
  },
  {
   "cell_type": "code",
   "execution_count": 51,
   "metadata": {},
   "outputs": [],
   "source": [
    "### transform\n",
    "train_transfrom = transforms.Compose([\n",
    "    transforms.RandomHorizontalFlip(p=0.5),\n",
    "    transforms.RandomVerticalFlip(p=0.3),\n",
    "    transforms.ToTensor(),\n",
    "    transforms.Normalize((0.5,0.5,0.5),(0.2,0.2,0.2))\n",
    "])\n",
    "\n",
    "test_transfrom = transforms.Compose([\n",
    "    transforms.ToTensor(),\n",
    "    transforms.Normalize((0.5,0.5,0.5),(0.2,0.2,0.2))\n",
    "])"
   ]
  },
  {
   "attachments": {},
   "cell_type": "markdown",
   "metadata": {},
   "source": [
    "데이터 다운로드(CIFAR-10)"
   ]
  },
  {
   "cell_type": "code",
   "execution_count": 52,
   "metadata": {},
   "outputs": [
    {
     "name": "stdout",
     "output_type": "stream",
     "text": [
      "Files already downloaded and verified\n",
      "Files already downloaded and verified\n"
     ]
    }
   ],
   "source": [
    "train_data = torchvision.datasets.CIFAR10(root='../99_StudyFiles/02_Data/', train=True, download=True, transform=train_transfrom)\n",
    "train_loader = torch.utils.data.DataLoader(train_data, batch_size=64, shuffle=True)\n",
    "\n",
    "test_data = torchvision.datasets.CIFAR10(root='../99_StudyFiles/02_Data/', train=False, download=True, transform=test_transfrom)\n",
    "test_loader = torch.utils.data.DataLoader(test_data, batch_size=64, shuffle=False)"
   ]
  },
  {
   "attachments": {},
   "cell_type": "markdown",
   "metadata": {},
   "source": [
    "LeNet-5 모델"
   ]
  },
  {
   "cell_type": "code",
   "execution_count": 53,
   "metadata": {},
   "outputs": [],
   "source": [
    "class LeNet(nn.Module):\n",
    "    def __init__(self):\n",
    "        super(LeNet, self).__init__()\n",
    "        self.conv1 = nn.Conv2d(3, 32, 3)    # 입력 채널, 출력채널 수, 커널 사이즈\n",
    "        self.pool = nn.MaxPool2d(2,2)\n",
    "        self.conv2 = nn.Conv2d(32, 64, 3)   # 입력 채널, 출력채널 수, 커널 사이즈\n",
    "        self.fc1 = nn.Linear(64 * 6 * 6, 64)    # 크기 조정\n",
    "        self.fc2 = nn.Linear(64, 10)\n",
    "    \n",
    "    def forward(self, x):\n",
    "        x = self.pool(torch.relu(self.conv1(x)))\n",
    "        x = self.pool(torch.relu(self.conv2(x)))\n",
    "        x = torch.flatten(x, 1) # 1차원으로 펼치기\n",
    "        x = torch.relu(self.fc1(x))\n",
    "        x = self.fc2(x)\n",
    "        return x\n"
   ]
  },
  {
   "attachments": {},
   "cell_type": "markdown",
   "metadata": {},
   "source": [
    "모델 학습 및 평가 함수 구현"
   ]
  },
  {
   "cell_type": "code",
   "execution_count": 54,
   "metadata": {},
   "outputs": [],
   "source": [
    "def train_and_eval(model):\n",
    "    criterion = nn.CrossEntropyLoss()\n",
    "    optimizer = optim.SGD(model.parameters(),lr=0.001, momentum=0.9)\n",
    "    \n",
    "    # 학습 loop\n",
    "    for epoch in range(5):\n",
    "        running_loss = 0.0\n",
    "        \n",
    "        for i, data in enumerate(train_loader, 0):\n",
    "            images, labels = data\n",
    "            optimizer.zero_grad()\n",
    "            \n",
    "            outputs = model(images)\n",
    "            loss = criterion(outputs,labels)\n",
    "            loss.backward()\n",
    "            optimizer.step()\n",
    "            \n",
    "            \"\"\"\n",
    "            매 200번째 미니 배치마다 조건이 참이 되어 손실이 출력되고 runing_10ss가 재설정됩니다.\n",
    "            이는 미니 배치가 190번째일 때마다 출력 및 초기화가 수행됩니다.\n",
    "            \"\"\"\n",
    "            \n",
    "            running_loss += loss.item()\n",
    "            if i % 200 == 190 :\n",
    "                print('{%d, %5d} loss : %.3f'% (epoch + 1, i+1, running_loss/200))\n",
    "                running_loss = 0.0\n",
    "                \n",
    "        print('Finished Traning')\n",
    "        \n",
    "        # 모델 평가\n",
    "        correct = 0\n",
    "        total = 0\n",
    "        with torch.no_grad():\n",
    "            for data in test_loader :\n",
    "                images, labels = data\n",
    "                outputs = model(images)\n",
    "                _, predicted = torch.max(outputs.data, 1)\n",
    "                total += labels.size(0)\n",
    "                correct += (predicted == labels).sum().item()\n",
    "        acc = 100 * correct / total\n",
    "        print('Acc >> %.2f %%'% acc)"
   ]
  },
  {
   "attachments": {},
   "cell_type": "markdown",
   "metadata": {},
   "source": [
    "실행"
   ]
  },
  {
   "cell_type": "code",
   "execution_count": 55,
   "metadata": {},
   "outputs": [
    {
     "name": "stdout",
     "output_type": "stream",
     "text": [
      "LeNet-5\n"
     ]
    },
    {
     "name": "stdout",
     "output_type": "stream",
     "text": [
      "{1,   191} loss : 2.142\n",
      "{1,   391} loss : 2.072\n",
      "{1,   591} loss : 1.936\n",
      "Finished Traning\n",
      "Acc >> 39.04 %\n",
      "{2,   191} loss : 1.666\n",
      "{2,   391} loss : 1.664\n",
      "{2,   591} loss : 1.604\n",
      "Finished Traning\n",
      "Acc >> 46.61 %\n",
      "{3,   191} loss : 1.487\n",
      "{3,   391} loss : 1.511\n",
      "{3,   591} loss : 1.496\n",
      "Finished Traning\n",
      "Acc >> 50.85 %\n",
      "{4,   191} loss : 1.403\n",
      "{4,   391} loss : 1.425\n",
      "{4,   591} loss : 1.403\n",
      "Finished Traning\n",
      "Acc >> 51.70 %\n",
      "{5,   191} loss : 1.297\n",
      "{5,   391} loss : 1.349\n",
      "{5,   591} loss : 1.348\n",
      "Finished Traning\n",
      "Acc >> 54.62 %\n",
      "LeNet 167562\n"
     ]
    }
   ],
   "source": [
    "print('LeNet-5')\n",
    "model = LeNet()\n",
    "train_and_eval(model)\n",
    "\n",
    "# 파라미터수\n",
    "print('LeNet', sum(p.numel() for p in model.parameters()))"
   ]
  }
 ],
 "metadata": {
  "kernelspec": {
   "display_name": "NN",
   "language": "python",
   "name": "python3"
  },
  "language_info": {
   "codemirror_mode": {
    "name": "ipython",
    "version": 3
   },
   "file_extension": ".py",
   "mimetype": "text/x-python",
   "name": "python",
   "nbconvert_exporter": "python",
   "pygments_lexer": "ipython3",
   "version": "3.9.0"
  },
  "orig_nbformat": 4
 },
 "nbformat": 4,
 "nbformat_minor": 2
}
